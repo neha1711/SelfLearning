{
 "cells": [
  {
   "cell_type": "markdown",
   "id": "4fa302f3",
   "metadata": {},
   "source": [
    "1. Why are functions advantageous to have in your programs?"
   ]
  },
  {
   "cell_type": "markdown",
   "id": "898fd53b",
   "metadata": {},
   "source": [
    "Answer ---- Function allows to reuse code in program ,so can avoid duplication of code if we need to use same set of code again \n",
    "and again .we can just call that function use in program whereever we need.\n"
   ]
  },
  {
   "cell_type": "markdown",
   "id": "8cc7b42c",
   "metadata": {},
   "source": [
    "2. When does the code in a function run: when it is  specified or when it is called?"
   ]
  },
  {
   "cell_type": "markdown",
   "id": "ee2d60b7",
   "metadata": {},
   "source": [
    "Answer --- code in a function run: when it is called"
   ]
  },
  {
   "cell_type": "markdown",
   "id": "9358a682",
   "metadata": {},
   "source": [
    "3. What statement creates a function?"
   ]
  },
  {
   "cell_type": "markdown",
   "id": "8400240d",
   "metadata": {},
   "source": [
    "Answer -- def function_name(parameters) :\n",
    "    function body"
   ]
  },
  {
   "cell_type": "markdown",
   "id": "c172ae40",
   "metadata": {},
   "source": [
    "4. What is the difference between a function and a function call?"
   ]
  },
  {
   "cell_type": "markdown",
   "id": "ea6bda09",
   "metadata": {},
   "source": [
    "Answer -- function -- to specify a block of code in it and a function call means to run the code in function."
   ]
  },
  {
   "cell_type": "markdown",
   "id": "c85e0522",
   "metadata": {},
   "source": [
    "5. How many global scopes are there in a Python program? How many local scopes?"
   ]
  },
  {
   "cell_type": "markdown",
   "id": "01fc543a",
   "metadata": {},
   "source": [
    "there is only one global scope in a python program -- global variable and which can be accessed \n",
    "from anywhere in program .\n",
    "locals scope is within a function o nly ,so local scopes will be as many functions created in a program.\n"
   ]
  },
  {
   "cell_type": "markdown",
   "id": "d0413985",
   "metadata": {},
   "source": [
    "6. What happens to variables in a local scope when the function call returns?"
   ]
  },
  {
   "cell_type": "markdown",
   "id": "a20b38c7",
   "metadata": {},
   "source": [
    "local variables are destroyed after when function call returns"
   ]
  },
  {
   "cell_type": "markdown",
   "id": "c0e02807",
   "metadata": {},
   "source": [
    "7. What is the concept of a return value? Is it possible to have a return value in an expression?"
   ]
  },
  {
   "cell_type": "markdown",
   "id": "6719142c",
   "metadata": {},
   "source": [
    "A return statement is used at end of the execution of the function call and “returns” the \n",
    "result to the function caller.yes there is an expression with return statement and \n",
    "any return value ahead of return keyword\n",
    "return is used only inside any function"
   ]
  },
  {
   "cell_type": "markdown",
   "id": "7f14b756",
   "metadata": {},
   "source": [
    "8. If a function does not have a return statement, what is the return value of a call to that function?"
   ]
  },
  {
   "cell_type": "markdown",
   "id": "9ff057c9",
   "metadata": {},
   "source": [
    "Answer --- None"
   ]
  },
  {
   "cell_type": "markdown",
   "id": "d072f236",
   "metadata": {},
   "source": [
    "9. How do you make a function variable refer to the global variable?"
   ]
  },
  {
   "cell_type": "markdown",
   "id": "eed3dcee",
   "metadata": {},
   "source": [
    "Answer -- by using global keyword -- global globvar"
   ]
  },
  {
   "cell_type": "markdown",
   "id": "47839677",
   "metadata": {},
   "source": [
    "10. What is the data type of None?"
   ]
  },
  {
   "cell_type": "markdown",
   "id": "f5977f47",
   "metadata": {},
   "source": [
    "NoneType "
   ]
  },
  {
   "cell_type": "markdown",
   "id": "93ced0cb",
   "metadata": {},
   "source": [
    "11. What does the sentence import areallyourpetsnamederic do?"
   ]
  },
  {
   "cell_type": "markdown",
   "id": "f77c01f6",
   "metadata": {},
   "source": [
    "this imports \"areallyourpetsnamederic\" modules in program"
   ]
  },
  {
   "cell_type": "markdown",
   "id": "5b78400e",
   "metadata": {},
   "source": [
    "12. If you had a bacon() feature in a spam module, what would you call it after importing spam?"
   ]
  },
  {
   "cell_type": "markdown",
   "id": "5098014c",
   "metadata": {},
   "source": [
    "bacon() function would be called as spam.bacon()"
   ]
  },
  {
   "cell_type": "markdown",
   "id": "e370946d",
   "metadata": {},
   "source": [
    "13. What can you do to save a programme from crashing if it encounters an error?"
   ]
  },
  {
   "cell_type": "markdown",
   "id": "f632ebb6",
   "metadata": {},
   "source": [
    "Exception handling -- Place the line of code that might cause an error in a try clause."
   ]
  },
  {
   "cell_type": "markdown",
   "id": "36f16cba",
   "metadata": {},
   "source": [
    "14. What is the purpose of the try clause? What is the purpose of the except clause?"
   ]
  },
  {
   "cell_type": "markdown",
   "id": "122a5c40",
   "metadata": {},
   "source": [
    "try clause - place line of code in try clause which might cause exception .except clause - code to handle any exception"
   ]
  },
  {
   "cell_type": "code",
   "execution_count": null,
   "id": "f1aa5889",
   "metadata": {},
   "outputs": [],
   "source": []
  }
 ],
 "metadata": {
  "kernelspec": {
   "display_name": "Python 3 (ipykernel)",
   "language": "python",
   "name": "python3"
  },
  "language_info": {
   "codemirror_mode": {
    "name": "ipython",
    "version": 3
   },
   "file_extension": ".py",
   "mimetype": "text/x-python",
   "name": "python",
   "nbconvert_exporter": "python",
   "pygments_lexer": "ipython3",
   "version": "3.9.12"
  }
 },
 "nbformat": 4,
 "nbformat_minor": 5
}
