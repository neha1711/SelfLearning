{
 "cells": [
  {
   "cell_type": "markdown",
   "id": "0afc8741",
   "metadata": {},
   "source": [
    "1.What are the two values of the Boolean data type? How do you write them?\n",
    "Answer-True,False\n"
   ]
  },
  {
   "cell_type": "markdown",
   "id": "a25d1cd7",
   "metadata": {},
   "source": [
    "2. What are the three different types of Boolean operators?\n",
    "Answer-- and,or,not"
   ]
  },
  {
   "cell_type": "markdown",
   "id": "71926960",
   "metadata": {},
   "source": [
    "3. Make a list of each Boolean operator's truth tables (i.e. every possible combination of Boolean\n",
    "values for the operator and what it evaluate ).\n",
    "Answer--- \n",
    "true,true--true\n",
    "true,false--false\n",
    "false,true--false\n",
    "false,false--false"
   ]
  },
  {
   "cell_type": "markdown",
   "id": "b7d8c105",
   "metadata": {},
   "source": [
    "4. What are the values of the following expressions?\n"
   ]
  },
  {
   "cell_type": "markdown",
   "id": "95397053",
   "metadata": {},
   "source": [
    "(5 > 4) and (3 == 5) #---False\n",
    "\n",
    "not (5 > 4) #-- False\n",
    "\n",
    "(5 > 4) or (3 == 5) #-- True\n",
    "\n",
    "\n",
    "not ((5 > 4) or (3 == 5)) #-- False\n",
    "\n",
    "(True and True) and (True == False) #--False\n",
    "\n",
    "(not False) or (not True) #--True\n"
   ]
  },
  {
   "cell_type": "markdown",
   "id": "d68635bf",
   "metadata": {},
   "source": [
    "5. What are the six comparison operators?\n",
    "Answer--- less than,greater than,less than or equal to,greater than or equal to,equal to,not equal to"
   ]
  },
  {
   "cell_type": "markdown",
   "id": "0370010b",
   "metadata": {},
   "source": [
    "6. How do you tell the difference between the equal to and assignment operators?Describe a\n",
    "condition and when you would use one.\n",
    "\n",
    "Answer---\n",
    "\n",
    "\"equal to\" -comparison operator used to compare two values\n",
    "\n",
    "\"assignment\" operators - used to assign value to a variable\n",
    "\n",
    "a=2 #assign 2 to a\n",
    "\n",
    "b=4 #assign 4 to b\n",
    "\n",
    "a==2 #output-- False #comparing values of a and b \n"
   ]
  },
  {
   "cell_type": "markdown",
   "id": "0200d4b5",
   "metadata": {},
   "source": [
    "7. Identify the three blocks in this code:\n",
    "\n",
    "              spam = 0\n",
    "\n",
    "              if spam == 10:\n",
    "\n",
    "              print('eggs'\n",
    "\n",
    "              if spam > 5:\n",
    "\n",
    "              print('bacon')\n",
    "\n",
    "              else:\n",
    "\n",
    "              print('ham')\n",
    "\n",
    "              print('spam')\n",
    "\n",
    "              print('spam')"
   ]
  },
  {
   "cell_type": "markdown",
   "id": "c2e36b19",
   "metadata": {},
   "source": [
    "       Answers ---\n",
    "       \n",
    "       spam = 0\n",
    "    #first block\n",
    "\n",
    "       if spam == 10:\n",
    "\n",
    "        print('eggs')\n",
    "#second block\n",
    "       \n",
    "       if spam > 5:\n",
    "\n",
    "        print('bacon')\n",
    "#third block\n",
    "       \n",
    "       else:\n",
    "\n",
    "        print('ham')\n",
    "\n",
    "        print('spam')\n",
    "\n",
    "        print('spam')"
   ]
  },
  {
   "cell_type": "markdown",
   "id": "c276de7a",
   "metadata": {},
   "source": [
    "8. Write code that prints Hello if 1 is stored in spam, prints Howdy if 2 is stored in spam, and prints\n",
    "Greetings! if anything else is stored in spam.\n",
    "\n",
    "Answer--"
   ]
  },
  {
   "cell_type": "markdown",
   "id": "643b223b",
   "metadata": {},
   "source": [
    "spam=2\n",
    "\n",
    "if spam==1:\n",
    "    \n",
    "    print(\"Hello\")\n",
    "\n",
    "elif spam==2:\n",
    "    \n",
    "    print(\"Howdy\")\n",
    "\n",
    "else:\n",
    "    \n",
    "    print(\"Greetings!\")"
   ]
  },
  {
   "cell_type": "markdown",
   "id": "5ddd9750",
   "metadata": {},
   "source": [
    "9.If your programme is stuck in an endless loop, what keys you’ll press?\n",
    "\n",
    "Answer ---\n",
    "CTRL+C"
   ]
  },
  {
   "cell_type": "markdown",
   "id": "eb905b36",
   "metadata": {},
   "source": [
    "10. How can you tell the difference between break and continue?\n",
    "\n",
    "Answer --- break - terminates execution and come out of loop\n",
    "\n",
    "continue - skip current iteration and continue loop with next iteration"
   ]
  },
  {
   "cell_type": "markdown",
   "id": "3a2c7cea",
   "metadata": {},
   "source": [
    "11. In a for loop, what is the difference between range(10), range(0, 10), and range(0, 10, 1)?\n",
    "\n",
    "Answer ---\n",
    "\n",
    "range(10) -- specify upper limit of range i.e. 10 and it will by default start from 0 and increment by 1 by default\n",
    "\n",
    "range(0,10) -- specify upper limit of range i.e. 10 and lower/start i.e 0 given here and increment by 1 by default\n",
    "\n",
    "range(0,10,1) -- specify upper limit of range i.e. 10 and lower/start i.e 0 given here and the step i.e 1 means it will increment by 1 as given here"
   ]
  },
  {
   "cell_type": "markdown",
   "id": "cebfa28d",
   "metadata": {},
   "source": [
    "12. Write a short program that prints the numbers 1 to 10 using a for loop. Then write an equivalent\n",
    "program that prints the numbers 1 to 10 using a while loop.\n"
   ]
  },
  {
   "cell_type": "markdown",
   "id": "4e69b07f",
   "metadata": {},
   "source": [
    "#for loop\n",
    "\n",
    "for i in range(1,11):\n",
    "    \n",
    "    print(i)\n",
    "    \n",
    "#while looop\n",
    "\n",
    "i=1\n",
    "\n",
    "while(i<=10):\n",
    "    \n",
    "    print(i)\n",
    "    \n",
    "    i+=1"
   ]
  },
  {
   "cell_type": "markdown",
   "id": "bbbe488f",
   "metadata": {},
   "source": [
    "13. If you had a function named bacon() inside a module named spam, how would you call it after\n",
    "importing spam?\n",
    "\n",
    "import spam\n",
    "\n",
    "spam.bacon"
   ]
  },
  {
   "cell_type": "code",
   "execution_count": null,
   "id": "d42dea1c",
   "metadata": {},
   "outputs": [],
   "source": []
  }
 ],
 "metadata": {
  "kernelspec": {
   "display_name": "Python 3 (ipykernel)",
   "language": "python",
   "name": "python3"
  },
  "language_info": {
   "codemirror_mode": {
    "name": "ipython",
    "version": 3
   },
   "file_extension": ".py",
   "mimetype": "text/x-python",
   "name": "python",
   "nbconvert_exporter": "python",
   "pygments_lexer": "ipython3",
   "version": "3.9.12"
  }
 },
 "nbformat": 4,
 "nbformat_minor": 5
}
